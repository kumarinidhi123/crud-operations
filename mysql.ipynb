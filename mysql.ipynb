{
 "cells": [
  {
   "cell_type": "code",
   "execution_count": 1,
   "metadata": {},
   "outputs": [],
   "source": [
    "import mysql.connector"
   ]
  },
  {
   "cell_type": "markdown",
   "metadata": {},
   "source": [
    "CONNECT TO THE MYSQL DATABASE"
   ]
  },
  {
   "cell_type": "code",
   "execution_count": 6,
   "metadata": {},
   "outputs": [
    {
     "name": "stdout",
     "output_type": "stream",
     "text": [
      "Connection established\n"
     ]
    }
   ],
   "source": [
    "import mysql.connector\n",
    "from mysql.connector import Error\n",
    "from dotenv import load_dotenv\n",
    "import os\n",
    "\n",
    "# Load environment variables from .env file\n",
    "load_dotenv()\n",
    "\n",
    "try:\n",
    "    # Get database credentials from environment variables\n",
    "    conn = mysql.connector.connect(\n",
    "        host=os.getenv(\"MYSQL_HOST\"),\n",
    "        user=os.getenv(\"MYSQL_USER\"),\n",
    "        password=os.getenv(\"MYSQL_PASSWORD\"),\n",
    "        database=os.getenv(\"MYSQL_DB\")\n",
    "    )\n",
    "    \n",
    "    if conn.is_connected():\n",
    "        mycursor = conn.cursor()\n",
    "        print(\"Connection established\")\n",
    "except Error as e:\n",
    "    print(f\"Connection error: {e}\")\n",
    "finally:\n",
    "    if conn.is_connected():\n",
    "        mycursor.close()\n",
    "        conn.close()\n",
    "        print(\"MySQL connection is closed\")\n"
   ]
  },
  {
   "cell_type": "markdown",
   "metadata": {},
   "source": [
    "CREATE DATABASE"
   ]
  },
  {
   "cell_type": "code",
   "execution_count": 4,
   "metadata": {},
   "outputs": [
    {
     "name": "stdout",
     "output_type": "stream",
     "text": [
      "DATABASE CREATED\n"
     ]
    }
   ],
   "source": [
    "mycursor.execute(\"CREATE DATABASE crud_python\")\n",
    "conn.commit()\n",
    "print(\"DATABASE CREATED\")"
   ]
  },
  {
   "cell_type": "markdown",
   "metadata": {},
   "source": [
    "CREATE TABLE"
   ]
  },
  {
   "cell_type": "code",
   "execution_count": 7,
   "metadata": {},
   "outputs": [
    {
     "name": "stdout",
     "output_type": "stream",
     "text": [
      "Table is created\n"
     ]
    }
   ],
   "source": [
    "mycursor.execute(\n",
    "    \"\"\"\n",
    "    CREATE TABLE customers(\n",
    "    id INTEGER PRIMARY KEY,\n",
    "    name VARCHAR(50) NOT NULL,\n",
    "    email VARCHAR(50) NOT NULL,\n",
    "    age INTEGER\n",
    "    )\n",
    "\n",
    "    \"\"\")\n",
    "conn.commit()\n",
    "print(\"Table is created\")\n"
   ]
  },
  {
   "cell_type": "markdown",
   "metadata": {},
   "source": [
    "INSERT DATA INTO TABLE"
   ]
  },
  {
   "cell_type": "code",
   "execution_count": 9,
   "metadata": {},
   "outputs": [
    {
     "name": "stdout",
     "output_type": "stream",
     "text": [
      "Rows are inserted\n"
     ]
    }
   ],
   "source": [
    "mycursor.execute(\n",
    "    \"\"\"\n",
    "       INSERT INTO customers VALUES\n",
    "       (1,\"Anil\",\"anil@gmail.com\",40),\n",
    "       (2,\"Rahul\",\"rahul@gmail.com\",30),\n",
    "       (3,\"Neha\",\"neha@gmail.com\",28),\n",
    "       (4,\"Nidhi\",\"nidhi@gmail.com\",23),\n",
    "       (5,\"Rohit\",\"rocky@gmail.com\",22)\n",
    "    \"\"\"\n",
    ")\n",
    "conn.commit()\n",
    "print(\"Rows are inserted\")"
   ]
  },
  {
   "cell_type": "markdown",
   "metadata": {},
   "source": [
    "READ DATA BASED ON ID"
   ]
  },
  {
   "cell_type": "code",
   "execution_count": 11,
   "metadata": {},
   "outputs": [
    {
     "name": "stdout",
     "output_type": "stream",
     "text": [
      "[(3, 'Neha', 'neha@gmail.com', 28)]\n"
     ]
    }
   ],
   "source": [
    "mycursor.execute(\"select * from customers where id =3\")\n",
    "myresult = mycursor.fetchall()\n",
    "print (myresult)"
   ]
  },
  {
   "cell_type": "code",
   "execution_count": 12,
   "metadata": {},
   "outputs": [
    {
     "name": "stdout",
     "output_type": "stream",
     "text": [
      "[(1, 'Anil', 'anil@gmail.com', 40), (2, 'Rahul', 'rahul@gmail.com', 30), (3, 'Neha', 'neha@gmail.com', 28), (4, 'Nidhi', 'nidhi@gmail.com', 23), (5, 'Rohit', 'rocky@gmail.com', 22)]\n"
     ]
    }
   ],
   "source": [
    "mycursor.execute(\"select * from customers\")\n",
    "myresult = mycursor.fetchall()\n",
    "print (myresult)"
   ]
  },
  {
   "cell_type": "markdown",
   "metadata": {},
   "source": [
    "UPDATE DATA IN A TABLE"
   ]
  },
  {
   "cell_type": "code",
   "execution_count": 13,
   "metadata": {},
   "outputs": [
    {
     "name": "stdout",
     "output_type": "stream",
     "text": [
      "updated\n"
     ]
    }
   ],
   "source": [
    "mycursor.execute(\"update customers set age = 27 where id =3\")\n",
    "conn.commit()\n",
    "print(\"updated\")"
   ]
  },
  {
   "cell_type": "code",
   "execution_count": 14,
   "metadata": {},
   "outputs": [
    {
     "name": "stdout",
     "output_type": "stream",
     "text": [
      "[(1, 'Anil', 'anil@gmail.com', 40), (2, 'Rahul', 'rahul@gmail.com', 30), (3, 'Neha', 'neha@gmail.com', 27), (4, 'Nidhi', 'nidhi@gmail.com', 23), (5, 'Rohit', 'rocky@gmail.com', 22)]\n"
     ]
    }
   ],
   "source": [
    "mycursor.execute(\"select * from customers \")\n",
    "myresult = mycursor.fetchall()\n",
    "print (myresult)"
   ]
  },
  {
   "cell_type": "markdown",
   "metadata": {},
   "source": [
    "DELETE DATA FROM A TABLE"
   ]
  },
  {
   "cell_type": "code",
   "execution_count": 15,
   "metadata": {},
   "outputs": [
    {
     "name": "stdout",
     "output_type": "stream",
     "text": [
      "deleted\n"
     ]
    }
   ],
   "source": [
    "mycursor.execute(\"delete from customers where id = 1\")\n",
    "conn.commit()\n",
    "print(\"deleted\")"
   ]
  },
  {
   "cell_type": "code",
   "execution_count": 16,
   "metadata": {},
   "outputs": [
    {
     "name": "stdout",
     "output_type": "stream",
     "text": [
      "[(2, 'Rahul', 'rahul@gmail.com', 30), (3, 'Neha', 'neha@gmail.com', 27), (4, 'Nidhi', 'nidhi@gmail.com', 23), (5, 'Rohit', 'rocky@gmail.com', 22)]\n"
     ]
    }
   ],
   "source": [
    "mycursor.execute(\"select * from customers \")\n",
    "myresult = mycursor.fetchall()\n",
    "print (myresult)"
   ]
  },
  {
   "cell_type": "code",
   "execution_count": null,
   "metadata": {},
   "outputs": [],
   "source": []
  }
 ],
 "metadata": {
  "kernelspec": {
   "display_name": "crud_databases",
   "language": "python",
   "name": "python3"
  },
  "language_info": {
   "codemirror_mode": {
    "name": "ipython",
    "version": 3
   },
   "file_extension": ".py",
   "mimetype": "text/x-python",
   "name": "python",
   "nbconvert_exporter": "python",
   "pygments_lexer": "ipython3",
   "version": "3.12.4"
  }
 },
 "nbformat": 4,
 "nbformat_minor": 2
}
