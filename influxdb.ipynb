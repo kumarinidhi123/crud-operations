{
 "cells": [
  {
   "cell_type": "code",
   "execution_count": 1,
   "metadata": {},
   "outputs": [
    {
     "name": "stdout",
     "output_type": "stream",
     "text": [
      "Collecting influxdb-client\n",
      "  Downloading influxdb_client-1.45.0-py3-none-any.whl.metadata (64 kB)\n",
      "     ---------------------------------------- 0.0/64.8 kB ? eta -:--:--\n",
      "     ------ --------------------------------- 10.2/64.8 kB ? eta -:--:--\n",
      "     ------ --------------------------------- 10.2/64.8 kB ? eta -:--:--\n",
      "     ------------------------ ------------- 41.0/64.8 kB 393.8 kB/s eta 0:00:01\n",
      "     -------------------------------------- 64.8/64.8 kB 496.1 kB/s eta 0:00:00\n",
      "Collecting reactivex>=4.0.4 (from influxdb-client)\n",
      "  Downloading reactivex-4.0.4-py3-none-any.whl.metadata (5.5 kB)\n",
      "Requirement already satisfied: certifi>=14.05.14 in c:\\users\\anita\\documents\\crud_operations\\crud_databases\\lib\\site-packages (from influxdb-client) (2024.7.4)\n",
      "Requirement already satisfied: python-dateutil>=2.5.3 in c:\\users\\anita\\documents\\crud_operations\\crud_databases\\lib\\site-packages (from influxdb-client) (2.9.0.post0)\n",
      "Collecting setuptools>=21.0.0 (from influxdb-client)\n",
      "  Downloading setuptools-74.0.0-py3-none-any.whl.metadata (6.7 kB)\n",
      "Requirement already satisfied: urllib3>=1.26.0 in c:\\users\\anita\\documents\\crud_operations\\crud_databases\\lib\\site-packages (from influxdb-client) (2.2.2)\n",
      "Requirement already satisfied: six>=1.5 in c:\\users\\anita\\documents\\crud_operations\\crud_databases\\lib\\site-packages (from python-dateutil>=2.5.3->influxdb-client) (1.16.0)\n",
      "Requirement already satisfied: typing-extensions<5.0.0,>=4.1.1 in c:\\users\\anita\\documents\\crud_operations\\crud_databases\\lib\\site-packages (from reactivex>=4.0.4->influxdb-client) (4.12.2)\n",
      "Downloading influxdb_client-1.45.0-py3-none-any.whl (745 kB)\n",
      "   ---------------------------------------- 0.0/745.4 kB ? eta -:--:--\n",
      "   --- ------------------------------------ 61.4/745.4 kB 1.7 MB/s eta 0:00:01\n",
      "   ------- -------------------------------- 143.4/745.4 kB 1.4 MB/s eta 0:00:01\n",
      "   ---------- ----------------------------- 194.6/745.4 kB 1.7 MB/s eta 0:00:01\n",
      "   ---------------------- ----------------- 419.8/745.4 kB 2.4 MB/s eta 0:00:01\n",
      "   -------------------------- ------------- 501.8/745.4 kB 2.2 MB/s eta 0:00:01\n",
      "   ---------------------------------------- 745.4/745.4 kB 2.8 MB/s eta 0:00:00\n",
      "Downloading reactivex-4.0.4-py3-none-any.whl (217 kB)\n",
      "   ---------------------------------------- 0.0/217.8 kB ? eta -:--:--\n",
      "   ---------------------------------------- 217.8/217.8 kB 6.7 MB/s eta 0:00:00\n",
      "Downloading setuptools-74.0.0-py3-none-any.whl (1.3 MB)\n",
      "   ---------------------------------------- 0.0/1.3 MB ? eta -:--:--\n",
      "   ------------ --------------------------- 0.4/1.3 MB 12.2 MB/s eta 0:00:01\n",
      "   ------------------- -------------------- 0.6/1.3 MB 8.0 MB/s eta 0:00:01\n",
      "   --------------------------- ------------ 0.9/1.3 MB 7.0 MB/s eta 0:00:01\n",
      "   ------------------------------------- -- 1.2/1.3 MB 7.1 MB/s eta 0:00:01\n",
      "   ---------------------------------------- 1.3/1.3 MB 6.9 MB/s eta 0:00:00\n",
      "Installing collected packages: setuptools, reactivex, influxdb-client\n",
      "Successfully installed influxdb-client-1.45.0 reactivex-4.0.4 setuptools-74.0.0\n"
     ]
    },
    {
     "name": "stderr",
     "output_type": "stream",
     "text": [
      "\n",
      "[notice] A new release of pip is available: 24.0 -> 24.2\n",
      "[notice] To update, run: python.exe -m pip install --upgrade pip\n"
     ]
    }
   ],
   "source": [
    "! pip install influxdb-client"
   ]
  },
  {
   "cell_type": "code",
   "execution_count": 5,
   "metadata": {},
   "outputs": [
    {
     "name": "stderr",
     "output_type": "stream",
     "text": [
      "C:\\Users\\ANITA\\AppData\\Local\\Temp\\ipykernel_18572\\2732666945.py:17: DeprecationWarning: datetime.datetime.utcnow() is deprecated and scheduled for removal in a future version. Use timezone-aware objects to represent datetimes in UTC: datetime.datetime.now(datetime.UTC).\n",
      "  timestamp = timestamp or datetime.utcnow()\n"
     ]
    },
    {
     "name": "stdout",
     "output_type": "stream",
     "text": [
      "Inserted score data for player player1 in game game1\n",
      "Inserted score data for player player2 in game game2\n",
      "Inserted score data for player player3 in game game1\n"
     ]
    }
   ],
   "source": [
    "import influxdb_client\n",
    "from influxdb_client.client.write_api import SYNCHRONOUS\n",
    "from datetime import datetime\n",
    "from dotenv import load_dotenv\n",
    "import os\n",
    "\n",
    "# Load environment variables from .env file\n",
    "load_dotenv()\n",
    "\n",
    "# Configuration\n",
    "url = os.getenv(\"INFLUXDB_URL\")\n",
    "token = os.getenv(\"INFLUXDB_TOKEN\")\n",
    "org = os.getenv(\"INFLUXDB_ORG\")\n",
    "bucket = os.getenv(\"INFLUXDB_BUCKET\")\n",
    "\n",
    "# Initialize the InfluxDB client\n",
    "client = influxdb_client.InfluxDBClient(url=url, token=token, org=org)\n",
    "write_api = client.write_api(write_options=SYNCHRONOUS)\n",
    "\n",
    "# Helper function to create a data point\n",
    "def create_data_point(player_id, game_id, metric_type, value, timestamp=None):\n",
    "    timestamp = timestamp or datetime.utcnow()\n",
    "    point = influxdb_client.Point(\"game_metrics\") \\\n",
    "        .tag(\"player_id\", player_id) \\\n",
    "        .tag(\"game_id\", game_id) \\\n",
    "        .field(metric_type, value) \\\n",
    "        .time(timestamp)\n",
    "    return point\n",
    "\n",
    "def insert_metric(player_id, game_id, metric_type, value):\n",
    "    point = create_data_point(player_id, game_id, metric_type, value)\n",
    "    write_api.write(bucket=bucket, org=org, record=point)\n",
    "    print(f\"Inserted {metric_type} data for player {player_id} in game {game_id}\")\n",
    "\n",
    "# Example Usage\n",
    "insert_metric(\"player1\", \"game1\", \"score\", 500)\n",
    "insert_metric(\"player2\", \"game2\", \"score\", 400)\n",
    "insert_metric(\"player3\", \"game1\", \"score\", 800)"
   ]
  },
  {
   "cell_type": "code",
   "execution_count": 15,
   "metadata": {},
   "outputs": [
    {
     "name": "stdout",
     "output_type": "stream",
     "text": [
      "Retrieved Metrics: [{'time': datetime.datetime(2024, 8, 29, 15, 15, 28, 976522, tzinfo=datetime.timezone.utc), 'metric': 'score', 'value': 500}, {'time': datetime.datetime(2024, 8, 29, 15, 21, 21, 301484, tzinfo=datetime.timezone.utc), 'metric': 'score', 'value': 500}, {'time': datetime.datetime(2024, 8, 29, 15, 30, 10, 26375, tzinfo=datetime.timezone.utc), 'metric': 'score', 'value': 600}]\n"
     ]
    }
   ],
   "source": [
    "import influxdb_client\n",
    "\n",
    "# Configuration (same as above)\n",
    "query_api = client.query_api()\n",
    "\n",
    "def get_metrics(player_id, game_id, start_time, end_time):\n",
    "    query = f'''\n",
    "    from(bucket: \"{bucket}\")\n",
    "        |> range(start: {start_time}, stop: {end_time})\n",
    "        |> filter(fn: (r) => r[\"player_id\"] == \"{player_id}\")\n",
    "        |> filter(fn: (r) => r[\"game_id\"] == \"{game_id}\")\n",
    "    '''\n",
    "    result = query_api.query(org=org, query=query)\n",
    "    metrics = []\n",
    "    for table in result:\n",
    "        for record in table.records:\n",
    "            metrics.append({\n",
    "                \"time\": record.get_time(),\n",
    "                \"metric\": record.get_field(),\n",
    "                \"value\": record.get_value()\n",
    "            })\n",
    "    return metrics\n",
    "\n",
    "# Example Usage\n",
    "start = \"2024-08-28T00:00:00Z\"\n",
    "end = \"2024-08-30T00:00:00Z\"\n",
    "metrics = get_metrics(\"player1\", \"game1\", start, end)\n",
    "print(\"Retrieved Metrics:\", metrics)\n"
   ]
  },
  {
   "cell_type": "code",
   "execution_count": 10,
   "metadata": {},
   "outputs": [
    {
     "name": "stderr",
     "output_type": "stream",
     "text": [
      "C:\\Users\\ANITA\\AppData\\Local\\Temp\\ipykernel_18572\\1883246090.py:11: DeprecationWarning: datetime.datetime.utcnow() is deprecated and scheduled for removal in a future version. Use timezone-aware objects to represent datetimes in UTC: datetime.datetime.now(datetime.UTC).\n",
      "  timestamp_to_update = datetime.utcnow()\n",
      "C:\\Users\\ANITA\\AppData\\Local\\Temp\\ipykernel_18572\\2732666945.py:17: DeprecationWarning: datetime.datetime.utcnow() is deprecated and scheduled for removal in a future version. Use timezone-aware objects to represent datetimes in UTC: datetime.datetime.now(datetime.UTC).\n",
      "  timestamp = timestamp or datetime.utcnow()\n"
     ]
    },
    {
     "name": "stdout",
     "output_type": "stream",
     "text": [
      "Inserted score data for player player1 in game game1\n"
     ]
    }
   ],
   "source": [
    "from datetime import timedelta\n",
    "\n",
    "def update_metric(player_id, game_id, metric_type, new_value, timestamp):\n",
    "    # Deleting the existing point\n",
    "    # delete_metric(player_id, game_id, metric_type, timestamp)\n",
    "    \n",
    "    # Inserting the new point with updated value\n",
    "    insert_metric(player_id, game_id, metric_type, new_value)\n",
    "\n",
    "# Example Usage\n",
    "timestamp_to_update = datetime.utcnow()\n",
    "update_metric(\"player1\", \"game1\", \"score\", 600, timestamp_to_update)\n"
   ]
  },
  {
   "cell_type": "code",
   "execution_count": null,
   "metadata": {},
   "outputs": [],
   "source": []
  }
 ],
 "metadata": {
  "kernelspec": {
   "display_name": "crud_databases",
   "language": "python",
   "name": "python3"
  },
  "language_info": {
   "codemirror_mode": {
    "name": "ipython",
    "version": 3
   },
   "file_extension": ".py",
   "mimetype": "text/x-python",
   "name": "python",
   "nbconvert_exporter": "python",
   "pygments_lexer": "ipython3",
   "version": "3.12.4"
  }
 },
 "nbformat": 4,
 "nbformat_minor": 2
}
