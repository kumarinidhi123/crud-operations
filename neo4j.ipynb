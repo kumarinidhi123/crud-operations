{
 "cells": [
  {
   "cell_type": "code",
   "execution_count": 1,
   "metadata": {},
   "outputs": [
    {
     "name": "stdout",
     "output_type": "stream",
     "text": [
      "Collecting neo4j\n",
      "  Downloading neo4j-5.24.0-py3-none-any.whl.metadata (5.7 kB)\n",
      "Collecting pytz (from neo4j)\n",
      "  Using cached pytz-2024.1-py2.py3-none-any.whl.metadata (22 kB)\n",
      "Downloading neo4j-5.24.0-py3-none-any.whl (294 kB)\n",
      "   ---------------------------------------- 0.0/294.6 kB ? eta -:--:--\n",
      "   -- ------------------------------------- 20.5/294.6 kB ? eta -:--:--\n",
      "   ----- --------------------------------- 41.0/294.6 kB 495.5 kB/s eta 0:00:01\n",
      "   -------- ------------------------------ 61.4/294.6 kB 544.7 kB/s eta 0:00:01\n",
      "   -------- ------------------------------ 61.4/294.6 kB 544.7 kB/s eta 0:00:01\n",
      "   -------- ------------------------------ 61.4/294.6 kB 544.7 kB/s eta 0:00:01\n",
      "   -------- ------------------------------ 61.4/294.6 kB 544.7 kB/s eta 0:00:01\n",
      "   -------------- ----------------------- 112.6/294.6 kB 344.8 kB/s eta 0:00:01\n",
      "   -------------- ----------------------- 112.6/294.6 kB 344.8 kB/s eta 0:00:01\n",
      "   -------------- ----------------------- 112.6/294.6 kB 344.8 kB/s eta 0:00:01\n",
      "   -------------- ----------------------- 112.6/294.6 kB 344.8 kB/s eta 0:00:01\n",
      "   ------------------ ------------------- 143.4/294.6 kB 266.2 kB/s eta 0:00:01\n",
      "   ------------------ ------------------- 143.4/294.6 kB 266.2 kB/s eta 0:00:01\n",
      "   ------------------ ------------------- 143.4/294.6 kB 266.2 kB/s eta 0:00:01\n",
      "   ------------------------------- ------ 245.8/294.6 kB 386.7 kB/s eta 0:00:01\n",
      "   ------------------------------- ------ 245.8/294.6 kB 386.7 kB/s eta 0:00:01\n",
      "   ------------------------------- ------ 245.8/294.6 kB 386.7 kB/s eta 0:00:01\n",
      "   ------------------------------- ------ 245.8/294.6 kB 386.7 kB/s eta 0:00:01\n",
      "   ------------------------------- ------ 245.8/294.6 kB 386.7 kB/s eta 0:00:01\n",
      "   ------------------------------- ------ 245.8/294.6 kB 386.7 kB/s eta 0:00:01\n",
      "   ------------------------------------ - 286.7/294.6 kB 305.2 kB/s eta 0:00:01\n",
      "   ------------------------------------ - 286.7/294.6 kB 305.2 kB/s eta 0:00:01\n",
      "   ------------------------------------ - 286.7/294.6 kB 305.2 kB/s eta 0:00:01\n",
      "   ------------------------------------ - 286.7/294.6 kB 305.2 kB/s eta 0:00:01\n",
      "   -------------------------------------- 294.6/294.6 kB 263.8 kB/s eta 0:00:00\n",
      "Using cached pytz-2024.1-py2.py3-none-any.whl (505 kB)\n",
      "Installing collected packages: pytz, neo4j\n",
      "Successfully installed neo4j-5.24.0 pytz-2024.1\n"
     ]
    },
    {
     "name": "stderr",
     "output_type": "stream",
     "text": [
      "\n",
      "[notice] A new release of pip is available: 24.0 -> 24.2\n",
      "[notice] To update, run: python.exe -m pip install --upgrade pip\n"
     ]
    }
   ],
   "source": [
    "! pip install neo4j"
   ]
  },
  {
   "cell_type": "code",
   "execution_count": 5,
   "metadata": {},
   "outputs": [
    {
     "name": "stdout",
     "output_type": "stream",
     "text": [
      "Employee Alice created.\n",
      "Department Engineering created.\n",
      "Employee E001 assigned to department D001.\n"
     ]
    }
   ],
   "source": [
    "from neo4j import GraphDatabase\n",
    "from dotenv import load_dotenv\n",
    "import os\n",
    "\n",
    "# Load environment variables from .env file\n",
    "load_dotenv()\n",
    "\n",
    "# Configuration\n",
    "uri = os.getenv(\"NEO4J_URI\")\n",
    "user = os.getenv(\"NEO4J_USER\")\n",
    "password = os.getenv(\"NEO4J_PASSWORD\")\n",
    "\n",
    "# Initialize the Neo4j driver\n",
    "driver = GraphDatabase.driver(uri, auth=(user, password))\n",
    "\n",
    "# Function to create an employee node\n",
    "def create_employee(employee_id, name, title):\n",
    "    with driver.session() as session:\n",
    "        session.run(\n",
    "            \"CREATE (e:Employee {employee_id: $employee_id, name: $name, title: $title})\",\n",
    "            employee_id=employee_id, name=name, title=title\n",
    "        )\n",
    "        print(f\"Employee {name} created.\")\n",
    "\n",
    "# Function to create a department node\n",
    "def create_department(department_id, name):\n",
    "    with driver.session() as session:\n",
    "        session.run(\n",
    "            \"CREATE (d:Department {department_id: $department_id, name: $name})\",\n",
    "            department_id=department_id, name=name\n",
    "        )\n",
    "        print(f\"Department {name} created.\")\n",
    "\n",
    "# Function to assign an employee to a department\n",
    "def assign_employee_to_department(employee_id, department_id):\n",
    "    with driver.session() as session:\n",
    "        session.run(\n",
    "            \"\"\"\n",
    "            MATCH (e:Employee {employee_id: $employee_id})\n",
    "            MATCH (d:Department {department_id: $department_id})\n",
    "            CREATE (e)-[:WORKS_IN]->(d)\n",
    "            \"\"\",\n",
    "            employee_id=employee_id, department_id=department_id\n",
    "        )\n",
    "        print(f\"Employee {employee_id} assigned to department {department_id}.\")\n",
    "\n",
    "# Example Usage:\n",
    "create_employee(\"E001\", \"Alice\", \"Software Engineer\")\n",
    "create_department(\"D001\", \"Engineering\")\n",
    "assign_employee_to_department(\"E001\", \"D001\")\n"
   ]
  },
  {
   "cell_type": "code",
   "execution_count": 2,
   "metadata": {},
   "outputs": [
    {
     "name": "stdout",
     "output_type": "stream",
     "text": [
      "Employees in Engineering Department: [{'employee_id': 'E001', 'name': 'Alice', 'title': 'Software Engineer'}]\n"
     ]
    }
   ],
   "source": [
    "def get_employees_in_department(department_id):\n",
    "    with driver.session() as session:\n",
    "        result = session.run(\n",
    "            \"\"\"\n",
    "            MATCH (e:Employee)-[:WORKS_IN]->(d:Department {department_id: $department_id})\n",
    "            RETURN e.employee_id AS employee_id, e.name AS name, e.title AS title\n",
    "            \"\"\",\n",
    "            department_id=department_id\n",
    "        )\n",
    "        employees = [{\"employee_id\": record[\"employee_id\"], \"name\": record[\"name\"], \"title\": record[\"title\"]}\n",
    "                    for record in result]\n",
    "    return employees\n",
    "\n",
    "# Example Usage:\n",
    "employees = get_employees_in_department(\"D001\")\n",
    "print(\"Employees in Engineering Department:\", employees)\n"
   ]
  },
  {
   "cell_type": "code",
   "execution_count": 3,
   "metadata": {},
   "outputs": [
    {
     "name": "stdout",
     "output_type": "stream",
     "text": [
      "Employee E001 moved to department D002.\n"
     ]
    }
   ],
   "source": [
    "def update_employee_department(employee_id, new_department_id):\n",
    "    with driver.session() as session:\n",
    "        session.run(\n",
    "            \"\"\"\n",
    "            MATCH (e:Employee {employee_id: $employee_id})-[r:WORKS_IN]->(d:Department)\n",
    "            DELETE r\n",
    "            WITH e\n",
    "            MATCH (new_d:Department {department_id: $new_department_id})\n",
    "            CREATE (e)-[:WORKS_IN]->(new_d)\n",
    "            \"\"\",\n",
    "            employee_id=employee_id, new_department_id=new_department_id\n",
    "        )\n",
    "        print(f\"Employee {employee_id} moved to department {new_department_id}.\")\n",
    "\n",
    "# Example Usage:\n",
    "update_employee_department(\"E001\", \"D002\")\n"
   ]
  },
  {
   "cell_type": "code",
   "execution_count": 4,
   "metadata": {},
   "outputs": [
    {
     "name": "stdout",
     "output_type": "stream",
     "text": [
      "Employee E001 deleted.\n"
     ]
    }
   ],
   "source": [
    "def delete_employee(employee_id):\n",
    "    with driver.session() as session:\n",
    "        session.run(\n",
    "            \"MATCH (e:Employee {employee_id: $employee_id}) DETACH DELETE e\",\n",
    "            employee_id=employee_id\n",
    "        )\n",
    "        print(f\"Employee {employee_id} deleted.\")\n",
    "\n",
    "# Example Usage:\n",
    "delete_employee(\"E001\")\n"
   ]
  },
  {
   "cell_type": "code",
   "execution_count": null,
   "metadata": {},
   "outputs": [],
   "source": []
  }
 ],
 "metadata": {
  "kernelspec": {
   "display_name": "crud_databases",
   "language": "python",
   "name": "python3"
  },
  "language_info": {
   "codemirror_mode": {
    "name": "ipython",
    "version": 3
   },
   "file_extension": ".py",
   "mimetype": "text/x-python",
   "name": "python",
   "nbconvert_exporter": "python",
   "pygments_lexer": "ipython3",
   "version": "3.12.4"
  }
 },
 "nbformat": 4,
 "nbformat_minor": 2
}
