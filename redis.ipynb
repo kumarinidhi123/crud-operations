{
 "cells": [
  {
   "cell_type": "code",
   "execution_count": 1,
   "metadata": {},
   "outputs": [
    {
     "name": "stdout",
     "output_type": "stream",
     "text": [
      "Collecting redis\n",
      "  Downloading redis-5.0.8-py3-none-any.whl.metadata (9.2 kB)\n",
      "Downloading redis-5.0.8-py3-none-any.whl (255 kB)\n",
      "   ---------------------------------------- 0.0/255.6 kB ? eta -:--:--\n",
      "   - -------------------------------------- 10.2/255.6 kB ? eta -:--:--\n",
      "   ------ -------------------------------- 41.0/255.6 kB 653.6 kB/s eta 0:00:01\n",
      "   --------------- ---------------------- 102.4/255.6 kB 980.4 kB/s eta 0:00:01\n",
      "   ------------------------------------ --- 235.5/255.6 kB 1.6 MB/s eta 0:00:01\n",
      "   ---------------------------------------- 255.6/255.6 kB 1.6 MB/s eta 0:00:00\n",
      "Installing collected packages: redis\n",
      "Successfully installed redis-5.0.8\n"
     ]
    },
    {
     "name": "stderr",
     "output_type": "stream",
     "text": [
      "\n",
      "[notice] A new release of pip is available: 24.0 -> 24.2\n",
      "[notice] To update, run: python.exe -m pip install --upgrade pip\n"
     ]
    }
   ],
   "source": [
    "! pip install redis"
   ]
  },
  {
   "cell_type": "markdown",
   "metadata": {},
   "source": [
    "CREATING CONNECTION TO REDIS"
   ]
  },
  {
   "cell_type": "code",
   "execution_count": 13,
   "metadata": {},
   "outputs": [
    {
     "name": "stdout",
     "output_type": "stream",
     "text": [
      "Connected to Redis successfully!\n"
     ]
    }
   ],
   "source": [
    "import redis\n",
    "import json\n",
    "from dotenv import load_dotenv\n",
    "import os\n",
    "\n",
    "# Load environment variables from .env file\n",
    "load_dotenv()\n",
    "\n",
    "# Configuration\n",
    "redis_host = os.getenv(\"REDIS_HOST\")\n",
    "redis_port = int(os.getenv(\"REDIS_PORT\"))\n",
    "redis_password = os.getenv(\"REDIS_PASSWORD\")\n",
    "\n",
    "\n",
    "# Initialize Redis client\n",
    "r = redis.StrictRedis(host=redis_host, port=redis_port, password=redis_password, decode_responses=True)\n",
    "\n",
    "# Test Connection\n",
    "try:\n",
    "    r.ping()\n",
    "    print(\"Connected to Redis successfully!\")\n",
    "except redis.ConnectionError as e:\n",
    "    print(f\"Failed to connect to Redis: {e}\")\n"
   ]
  },
  {
   "cell_type": "markdown",
   "metadata": {},
   "source": [
    "CREATING A SESSION"
   ]
  },
  {
   "cell_type": "code",
   "execution_count": 14,
   "metadata": {},
   "outputs": [
    {
     "name": "stdout",
     "output_type": "stream",
     "text": [
      "Session session_123 created with expiration in 3600 seconds.\n"
     ]
    }
   ],
   "source": [
    "def create_session(session_id, user_data, expiration_seconds=3600):\n",
    "    \"\"\"\n",
    "    Create a new session with a unique session_id and user_data.\n",
    "    :param session_id: Unique session identifier\n",
    "    :param user_data: Dictionary containing user-specific data\n",
    "    :param expiration_seconds: Session expiration time in seconds (default: 1 hour)\n",
    "    \"\"\"\n",
    "    r.setex(session_id, expiration_seconds, json.dumps(user_data))\n",
    "    print(f\"Session {session_id} created with expiration in {expiration_seconds} seconds.\")\n",
    "\n",
    "# Example Usage\n",
    "user_data = {\"user_id\": \"U001\", \"name\": \"Alice\", \"preferences\": {\"theme\": \"dark\"}}\n",
    "create_session(\"session_123\", user_data)\n"
   ]
  },
  {
   "cell_type": "markdown",
   "metadata": {},
   "source": [
    "RETRIEVE THE SESSION"
   ]
  },
  {
   "cell_type": "code",
   "execution_count": 16,
   "metadata": {},
   "outputs": [
    {
     "name": "stdout",
     "output_type": "stream",
     "text": [
      "Retrieved Session Data: {'user_id': 'U001', 'name': 'Alice', 'preferences': {'theme': 'dark'}}\n"
     ]
    }
   ],
   "source": [
    "def get_session_data(session_id):\n",
    "    \"\"\"\n",
    "    Retrieve user data from a session by session_id.\n",
    "    :param session_id: Unique session identifier\n",
    "    :return: Dictionary containing user data or None if the session does not exist\n",
    "    \"\"\"\n",
    "    session_data = r.get(session_id)\n",
    "    if session_data:\n",
    "        return json.loads(session_data)\n",
    "    else:\n",
    "        print(f\"Session {session_id} does not exist.\")\n",
    "        return None\n",
    "\n",
    "# Example Usage\n",
    "session_data = get_session_data(\"session_123\")\n",
    "print(\"Retrieved Session Data:\", session_data)\n"
   ]
  },
  {
   "cell_type": "markdown",
   "metadata": {},
   "source": [
    "UPDATE SESSION"
   ]
  },
  {
   "cell_type": "code",
   "execution_count": 17,
   "metadata": {},
   "outputs": [
    {
     "name": "stdout",
     "output_type": "stream",
     "text": [
      "Session session_123 updated.\n"
     ]
    }
   ],
   "source": [
    "def update_session_data(session_id, new_user_data):\n",
    "    \"\"\"\n",
    "    Update existing session data.\n",
    "    :param session_id: Unique session identifier\n",
    "    :param new_user_data: Dictionary containing updated user-specific data\n",
    "    \"\"\"\n",
    "    if r.exists(session_id):\n",
    "        r.set(session_id, json.dumps(new_user_data))\n",
    "        print(f\"Session {session_id} updated.\")\n",
    "    else:\n",
    "        print(f\"Session {session_id} does not exist.\")\n",
    "\n",
    "# Example Usage\n",
    "updated_user_data = {\"user_id\": \"U001\", \"name\": \"Alice\", \"preferences\": {\"theme\": \"light\"}}\n",
    "update_session_data(\"session_123\", updated_user_data)\n"
   ]
  },
  {
   "cell_type": "markdown",
   "metadata": {},
   "source": [
    "DELETE SESSION"
   ]
  },
  {
   "cell_type": "code",
   "execution_count": 18,
   "metadata": {},
   "outputs": [
    {
     "name": "stdout",
     "output_type": "stream",
     "text": [
      "Session session_123 deleted.\n"
     ]
    }
   ],
   "source": [
    "def delete_session(session_id):\n",
    "    \"\"\"\n",
    "    Delete a session by session_id.\n",
    "    :param session_id: Unique session identifier\n",
    "    \"\"\"\n",
    "    if r.delete(session_id):\n",
    "        print(f\"Session {session_id} deleted.\")\n",
    "    else:\n",
    "        print(f\"Session {session_id} does not exist.\")\n",
    "\n",
    "# Example Usage\n",
    "delete_session(\"session_123\")\n"
   ]
  },
  {
   "cell_type": "code",
   "execution_count": null,
   "metadata": {},
   "outputs": [],
   "source": []
  }
 ],
 "metadata": {
  "kernelspec": {
   "display_name": "crud_databases",
   "language": "python",
   "name": "python3"
  },
  "language_info": {
   "codemirror_mode": {
    "name": "ipython",
    "version": 3
   },
   "file_extension": ".py",
   "mimetype": "text/x-python",
   "name": "python",
   "nbconvert_exporter": "python",
   "pygments_lexer": "ipython3",
   "version": "3.12.4"
  }
 },
 "nbformat": 4,
 "nbformat_minor": 2
}
