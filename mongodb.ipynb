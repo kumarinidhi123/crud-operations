{
 "cells": [
  {
   "cell_type": "markdown",
   "metadata": {},
   "source": [
    "### Creating Connection with MongoDB"
   ]
  },
  {
   "cell_type": "code",
   "execution_count": 1,
   "metadata": {},
   "outputs": [],
   "source": [
    "from pymongo import MongoClient\n",
    "from dotenv import load_dotenv\n",
    "import os\n",
    "\n",
    "# Load environment variables from .env file\n",
    "load_dotenv()\n",
    "\n",
    "# MongoDB Connection\n",
    "client = MongoClient(os.getenv(\"MONGODB_URI\"))\n",
    "db = client['shop']\n",
    "products_collection = db['products']\n",
    "\n"
   ]
  },
  {
   "cell_type": "markdown",
   "metadata": {},
   "source": [
    "### Create Operation"
   ]
  },
  {
   "cell_type": "code",
   "execution_count": 2,
   "metadata": {},
   "outputs": [
    {
     "name": "stdout",
     "output_type": "stream",
     "text": [
      "Inserted product IDs: [ObjectId('66e14c6fce037b3edca3615d'), ObjectId('66e14c6fce037b3edca3615e'), ObjectId('66e14c6fce037b3edca3615f')]\n"
     ]
    }
   ],
   "source": [
    "# List of products to insert\n",
    "products = [\n",
    "    {\n",
    "        \"product_id\": \"p001\",\n",
    "        \"name\": \"Smartphone\",\n",
    "        \"description\": \"A high-end smartphone.\",\n",
    "        \"price\": 800.00\n",
    "    },\n",
    "    {\n",
    "        \"product_id\": \"p002\",\n",
    "        \"name\": \"Tablet\",\n",
    "        \"description\": \"A lightweight and portable tablet.\",\n",
    "        \"price\": 500.00\n",
    "    },\n",
    "    {\n",
    "        \"product_id\": \"p003\",\n",
    "        \"name\": \"Smartwatch\",\n",
    "        \"description\": \"A smartwatch with health tracking.\",\n",
    "        \"price\": 250.00\n",
    "    }\n",
    "]\n",
    "\n",
    "# Insert multiple products\n",
    "result = products_collection.insert_many(products)\n",
    "print(\"Inserted product IDs:\", result.inserted_ids)"
   ]
  },
  {
   "cell_type": "markdown",
   "metadata": {},
   "source": [
    "### READ OPERATION"
   ]
  },
  {
   "cell_type": "code",
   "execution_count": 3,
   "metadata": {},
   "outputs": [
    {
     "name": "stdout",
     "output_type": "stream",
     "text": [
      "Product found: {'_id': ObjectId('66e14c6fce037b3edca3615d'), 'product_id': 'p001', 'name': 'Smartphone', 'description': 'A high-end smartphone.', 'price': 800.0}\n"
     ]
    }
   ],
   "source": [
    "# Query for a product\n",
    "product = products_collection.find_one({\"product_id\": \"p001\"})\n",
    "print(\"Product found:\", product)"
   ]
  },
  {
   "cell_type": "markdown",
   "metadata": {},
   "source": [
    "### UPDATE OPERATION"
   ]
  },
  {
   "cell_type": "code",
   "execution_count": 4,
   "metadata": {},
   "outputs": [
    {
     "name": "stdout",
     "output_type": "stream",
     "text": [
      "Number of documents modified: 1\n"
     ]
    }
   ],
   "source": [
    "# Update the price of the product\n",
    "update_result = products_collection.update_one(\n",
    "    {\"product_id\": \"p001\"},\n",
    "    {\"$set\": {\"price\": 1100.00}}\n",
    ")\n",
    "\n",
    "print(\"Number of documents modified:\", update_result.modified_count)"
   ]
  },
  {
   "cell_type": "markdown",
   "metadata": {},
   "source": [
    "### DELETE OPERATION"
   ]
  },
  {
   "cell_type": "code",
   "execution_count": 5,
   "metadata": {},
   "outputs": [
    {
     "name": "stdout",
     "output_type": "stream",
     "text": [
      "Number of documents deleted: 1\n"
     ]
    }
   ],
   "source": [
    "# Delete the product\n",
    "delete_result = products_collection.delete_one({\"product_id\": \"p001\"})\n",
    "print(\"Number of documents deleted:\", delete_result.deleted_count)"
   ]
  },
  {
   "cell_type": "code",
   "execution_count": null,
   "metadata": {},
   "outputs": [],
   "source": []
  }
 ],
 "metadata": {
  "kernelspec": {
   "display_name": "crud_databases",
   "language": "python",
   "name": "python3"
  },
  "language_info": {
   "codemirror_mode": {
    "name": "ipython",
    "version": 3
   },
   "file_extension": ".py",
   "mimetype": "text/x-python",
   "name": "python",
   "nbconvert_exporter": "python",
   "pygments_lexer": "ipython3",
   "version": "3.12.4"
  }
 },
 "nbformat": 4,
 "nbformat_minor": 2
}
